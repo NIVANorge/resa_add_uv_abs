{
 "cells": [
  {
   "cell_type": "code",
   "execution_count": null,
   "id": "098fd02d-dedb-4383-b8ca-3e0deeb7bf00",
   "metadata": {},
   "outputs": [],
   "source": [
    "import os\n",
    "from glob import glob\n",
    "\n",
    "import nivapy3 as nivapy\n",
    "import resa_uv_abs as uv"
   ]
  },
  {
   "cell_type": "markdown",
   "id": "b0435723-fb9c-4f94-9e5e-6d5ea2ec21b3",
   "metadata": {},
   "source": [
    "# Upload UV absorbance data to RESA2\n",
    "\n",
    "This notebook reads UV absorbance data produced by NIVA Lab's spectrophotometer and adds it to RESA2. It provides an alternative to Tore's old Access database named `ABSDATA_IMPORT.accdb`. This is a temporary solution, but will hopefully be faster/more efficient than the current workflow.\n",
    "\n",
    "#### Description of workflow\n",
    "\n",
    " * The analyses are conducted in batches by Erling Bratsberg. Result files for each batch are stored in folders named `AB{yymmdd}` where `{yymmdd}` is the day the analyses were conducted. Files are stored both on the Lab's network drive at `T:\\LAMBDA40P\\UVWINLAB\\DATA` and by Liv Bente at `K:\\Avdeling\\412 Ana\\LAMBDA\\ABSSPEKTER_KAU`. The directory structure in these locations is broadly - but not exactly - the same. **Need to check which source is definitive** <br><br>\n",
    " \n",
    " * Within each folder, result files are named `xxxxx.SP` where `xxxxx` is the serial number used in Labware. Each sample can be uniquely identified in Labware by the Labware text ID, which is formed as `NR-{year}-{serial_no}`. Each file contains a header (**check what information this contains**), plus UV absorbance results for 701 wavelengths from 200 to 900 nm inclusive <br><br>\n",
    " \n",
    " * Each folder should also contain one or more \"blank\"/calibration files, usually named either `BLANK.SP` or `BL.SP`. Sometimes both files are present. In this case, I **need to find out how to choose the correct blank for each result file** <br><br>\n",
    " \n",
    " * The folders may contain files with other extensions, but these can be ignored for the purposes of this workflow <br><br>\n",
    " \n",
    " * The spectrophotometer uses cuvettes with a fixed length of 5 cm (**check this**). UV absorbance is usually reported per cm, so values should be divided by 5 before upload <br><br>\n",
    " \n",
    " * Sometimes, very dark samples must be diluted before analysis. In these cases, a dilution factor should also be reported. **Need to find out where this is stored and include it in the code** <br><br>\n",
    "\n",
    "Corrected values are calculated as\n",
    " \n",
    "$$A_{cor} = \\frac{D(A_{raw} - A_{blank})}{L}$$\n",
    "\n",
    "where $A_{cor}$ is the corrected value to be uploaded; $A_{raw}$ and $A_{blank}$ are the raw and calibration absorbances at each wavelength, respectively; $D$ is the dimensionless dilution factor; and $L$ is the cuvette length in cm."
   ]
  },
  {
   "cell_type": "markdown",
   "id": "c1e4e054-2296-47d3-9546-b199521e9eeb",
   "metadata": {},
   "source": [
    "## 1. Connect to Nivabasen\n",
    "\n",
    "You must login as a user with sufficient permissions to write to tables in RESA2."
   ]
  },
  {
   "cell_type": "code",
   "execution_count": null,
   "id": "ca1e0401-4745-424e-b337-05ba744f0f19",
   "metadata": {},
   "outputs": [],
   "source": [
    "engine = nivapy.da.connect()"
   ]
  },
  {
   "cell_type": "markdown",
   "id": "1303e1f2-6ad9-48f6-9381-aa9d39d6c51c",
   "metadata": {},
   "source": [
    "## 2. User options\n",
    "\n",
    "Take care with setting `force_update = True` in the code below. This will delete existing data from the database and upload it again.\n",
    "\n",
    "#### Issues to solve\n",
    "\n",
    " * The correct blank file, cuvette length and dilution factor should eventually be identified automatically in the code. I believe the cuvette length is fixed at 5 cm, but am not sure where the other information is stored. Defaults are currently hard-coded for testing, but **this must be changed before the code is used \"for real\"** <br><br>\n",
    " \n",
    " * The data already in RESA2 currently uses one of the two methods in the table below. **Check which is correct for the current instrument** (Tore's Access database assumes method ID 10666, which has more complete metadata)\n",
    " \n",
    "| wc_method_id |      name      |  unit  | laboratory | method_ref |        description       |\n",
    "|:------------:|:--------------:|:------:|:----------:|:----------:|:------------------------:|\n",
    "|     10666    | LAMBDA_Spekter | abs/cm |    NIVA    |            | Hele spekteret, filtrert |\n",
    "|     10758    | Sensor_Spekter |        |            |            |                          |"
   ]
  },
  {
   "cell_type": "code",
   "execution_count": null,
   "id": "0ba80fc4-9212-4340-82af-93b23c47c9b3",
   "metadata": {},
   "outputs": [],
   "source": [
    "# Data folder to process\n",
    "uv_data_fold = r\"../../test_data\"\n",
    "\n",
    "# Blank file to use (usually either 'BLANK.SP' or 'BL.SP'\n",
    "blank_file = \"BLANK.SP\"\n",
    "\n",
    "# Cuvette length in cm\n",
    "cuvette_len_cm = 5\n",
    "\n",
    "# Dilution of sample (dimensionless)\n",
    "dilution = 1\n",
    "\n",
    "# Method ID to assign in RESA. Either 10666 or 10758.\n",
    "# Not sure which is correct: 10758 is more recent,\n",
    "# but 10666 is more complete\n",
    "meth_id = 10666\n",
    "\n",
    "# Whether to re-upload data for samples already in the database.\n",
    "# If 'force_update' is False and UV data for the current water sample are\n",
    "# already present in RESA2, data for this sample will be skipped (and a\n",
    "# message printed to the output). If 'force_update' is True, data already\n",
    "# in the database for the current sample will be deleted and the values\n",
    "# uploaded again\n",
    "force_update = False"
   ]
  },
  {
   "cell_type": "code",
   "execution_count": null,
   "id": "1d3b4c42-95df-4960-9073-7105bf22badf",
   "metadata": {},
   "outputs": [],
   "source": [
    "# Check user input\n",
    "assert blank_file in (\n",
    "    \"BL.SP\",\n",
    "    \"BLANK.SP\",\n",
    "), \"'blank_file' must be either 'BL.SP' or 'BLANK.SP'\"\n",
    "assert meth_id in (10666, 10758), \"'meth_id' must be either 10666 or 10758.\"\n",
    "assert isinstance(cuvette_len_cm, (int, float)), \"'cuvette_len_cm' must be a number.\"\n",
    "assert isinstance(dilution, (int, float)), \"'dilution' must be a number.\"\n",
    "assert type(force_update) is bool, \"'force_update' must be of Boolean type.\""
   ]
  },
  {
   "cell_type": "markdown",
   "id": "2288168f-91ff-469a-a8c4-054fa6f2d375",
   "metadata": {},
   "source": [
    "## 3. Upload data\n",
    "\n",
    "The code performs the following steps:\n",
    "\n",
    " 1. Gets a list of all folders within `uv_data_fold` that begin with the letters `AB` (capitalised) <br><br>\n",
    " \n",
    " 2. For each folder, gets a list of all files ending with extension `.SP` <br><br>\n",
    " \n",
    " 3. Reads the specified blank file from within the folder, and checks that it contains data for 701 wavelengths <br><br>\n",
    " \n",
    " 4. For each (non-blank) `.SP` file in each folder, identifies the serial number from the file name. Also identifies the year when the analysis was conducted for both the blank and raw files (this is extracted from the file headers). Constructs the Labware text ID as `{NR-{year}-{serial_no}` and then uses this information to identify the corresponding RESA2 water sample ID. The code raises an error if more than one sample ID is found, and prints a warning (but continues) if no matching ID can be identified <br><br>\n",
    " \n",
    " 5. Reads each raw data file, and checks they contain data for 701 wavelengths <br><br>\n",
    " \n",
    " 6. The blank values are subtracted from the raw values and then corrected for dilution and cuvette length <br><br>\n",
    " \n",
    " 7. Corrected values are uploaded to `RESA2.ABSORBANCE_SPECTRAS`. If this table already contains values for the water sample being processed, a warning will be printed and the code will continue to the next file without uploading anything (unless `force_update = True`, in which case the existing data will be deleted from RESA and uploaded again) <br><br>\n",
    " \n",
    " 8. Within each folder, a subfolder is created named `uploaded`. Each raw `.SP` file that is successfully processed is moved to this subfolder <br><br>\n",
    " \n",
    " 9. When a sample has been successfully processed, a new row is inserted into `RESA2.LOG_ABS_SPECTRA`. This records key information about the sample (`labware_text_id`, `water_sample_id`, `year`, `serial_no`, `blank_file`, `dilution`, `cuvette_len_cm`, `original_path` and `archive_path`), plus the user that uploaded the data and the current date. Note that if a file is uploaded multiple times, it will appear several times in this table (but the dataset can only appear once in `RESA2.ABSORBANCE_SPECTRAS`, as it must be deleted each time before uploading again)"
   ]
  },
  {
   "cell_type": "code",
   "execution_count": null,
   "id": "c102f60e-5a31-471c-bb89-47f411e4be62",
   "metadata": {},
   "outputs": [],
   "source": [
    "# Relevant folder names begin with \"AB\"\n",
    "folders = glob(f\"{uv_data_fold}/*\")\n",
    "folders = [fold for fold in folders if os.path.split(fold)[1][:2] == \"AB\"]\n",
    "\n",
    "for fold in folders:\n",
    "    flist = glob(f\"{fold}/*.SP\")\n",
    "\n",
    "    if len(flist) > 0:\n",
    "        print(\"##################################################################\")\n",
    "        print(fold)\n",
    "        print(\"##################################################################\")\n",
    "\n",
    "        blank_path = f\"{fold}/{blank_file}\"\n",
    "        blank_year = uv.get_year(blank_path)\n",
    "        blank_df = uv.read_uv_abs(blank_path)\n",
    "\n",
    "        for fpath in flist:\n",
    "            serial_no = os.path.split(fpath)[1][:-3]\n",
    "\n",
    "            if serial_no not in (\"BL\", \"BLANK\"):\n",
    "                data_year = uv.get_year(fpath)\n",
    "                assert (\n",
    "                    data_year == blank_year\n",
    "                ), \"Years for 'blank' and 'raw' samples don't match.\"\n",
    "                ws_id = uv.get_water_sample_id(serial_no, data_year, engine)\n",
    "\n",
    "                if ws_id is None:\n",
    "                    print(\n",
    "                        f\"Skipping upload for NR-{data_year}-{serial_no}. \"\n",
    "                        \"Could not identify water sample in RESA2. \"\n",
    "                    )\n",
    "                else:\n",
    "                    df = uv.read_uv_abs(fpath)\n",
    "                    df = uv.correct_values(\n",
    "                        df, blank_df, cuvette_len_cm, dilution, ws_id, meth_id\n",
    "                    )\n",
    "                    uv.add_to_resa(\n",
    "                        df,\n",
    "                        fold,\n",
    "                        data_year,\n",
    "                        serial_no,\n",
    "                        blank_file,\n",
    "                        dilution,\n",
    "                        cuvette_len_cm,\n",
    "                        engine,\n",
    "                        force_update=force_update,\n",
    "                    )"
   ]
  }
 ],
 "metadata": {
  "kernelspec": {
   "display_name": "Python 3 (ipykernel)",
   "language": "python",
   "name": "python3"
  },
  "language_info": {
   "codemirror_mode": {
    "name": "ipython",
    "version": 3
   },
   "file_extension": ".py",
   "mimetype": "text/x-python",
   "name": "python",
   "nbconvert_exporter": "python",
   "pygments_lexer": "ipython3",
   "version": "3.9.6"
  }
 },
 "nbformat": 4,
 "nbformat_minor": 5
}
