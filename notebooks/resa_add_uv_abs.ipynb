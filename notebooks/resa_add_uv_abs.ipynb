{
 "cells": [
  {
   "cell_type": "code",
   "execution_count": 1,
   "id": "098fd02d-dedb-4383-b8ca-3e0deeb7bf00",
   "metadata": {},
   "outputs": [],
   "source": [
    "import os\n",
    "from glob import glob\n",
    "\n",
    "import nivapy3 as nivapy\n",
    "import resa_uv_abs as uv"
   ]
  },
  {
   "cell_type": "markdown",
   "id": "b0435723-fb9c-4f94-9e5e-6d5ea2ec21b3",
   "metadata": {},
   "source": [
    "# Upload UV absorbance data to RESA2\n",
    "\n",
    "This notebook reads UV absorbance data produced by NIVA Lab's spectrophotometer and adds it to RESA2. It provides an alternative to Tore's old Access database named `ABSDATA_IMPORT.accdb`. This is a temporary solution, but will hopefully be faster/more efficient than the current workflow.\n",
    "\n",
    "#### Description of workflow\n",
    "\n",
    " * The analyses are conducted in batches by Erling Bratsberg. Result files for each batch are stored in folders named `AB{yymmdd}` where `{yymmdd}` is the day the analyses were conducted. Files are stored both on the Lab's network drive at `T:\\LAMBDA40P\\UVWINLAB\\DATA` and by Liv Bente at `K:\\Avdeling\\412 Ana\\LAMBDA\\ABSSPEKTER_KAU`. The directory structure in these locations is broadly - but not exactly - the same. **Need to check which source is definitive** <br><br>\n",
    " \n",
    " * Within each folder, result files are named `xxxxx.SP` where `xxxxx` is the serial number used in Labware. Each sample can be uniquely identified in Labware by the Labware text ID, which is formed as `NR-{year}-{serial_no}`. Each file contains a header, plus UV absorbance results for 701 wavelengths from 200 to 900 nm inclusive <br><br>\n",
    " \n",
    " * Each folder should also contain one or more \"blank\"/calibration files, usually named either `BLANK.SP` or `BL.SP`. Sometimes both files are present. An analysis will begin with a blank file (usually called `BLANK.SP`), followed by several result files, then another blank file (usually `BL.SP`) and some more samples. The first blank file applies to the first set of results and the second to the second set of results. All the files include date & time stamps in the header, which can be used to match result files to blanks <br><br>\n",
    " \n",
    " * The folders may contain files with other extensions, but these can be ignored for the purposes of this workflow <br><br>\n",
    " \n",
    " * The spectrophotometer uses cuvettes with a fixed length of 5 cm. UV absorbance is usually reported per cm, so values should be divided by 5 before upload <br><br>\n",
    " \n",
    " * Sometimes, very dark samples must be diluted before analysis. In these cases, a dilution factor should also be reported. **Need to find out where this is stored and include it in the code** <br><br>\n",
    "\n",
    "Corrected values are calculated as\n",
    " \n",
    "$$A_{cor} = \\frac{D(A_{raw} - A_{blank})}{L}$$\n",
    "\n",
    "where $A_{cor}$ is the corrected value to be uploaded; $A_{raw}$ and $A_{blank}$ are the raw and calibration absorbances at each wavelength, respectively; $D$ is the dimensionless dilution factor; and $L$ is the cuvette length in cm."
   ]
  },
  {
   "cell_type": "markdown",
   "id": "c1e4e054-2296-47d3-9546-b199521e9eeb",
   "metadata": {},
   "source": [
    "## 1. Connect to Nivabasen\n",
    "\n",
    "You must login as a user with sufficient permissions to write to tables in RESA2."
   ]
  },
  {
   "cell_type": "code",
   "execution_count": 2,
   "id": "ca1e0401-4745-424e-b337-05ba744f0f19",
   "metadata": {},
   "outputs": [
    {
     "name": "stdin",
     "output_type": "stream",
     "text": [
      "Username:  ···\n",
      "Password:  ··············\n"
     ]
    },
    {
     "name": "stdout",
     "output_type": "stream",
     "text": [
      "Connection successful.\n"
     ]
    }
   ],
   "source": [
    "engine = nivapy.da.connect()"
   ]
  },
  {
   "cell_type": "markdown",
   "id": "1303e1f2-6ad9-48f6-9381-aa9d39d6c51c",
   "metadata": {},
   "source": [
    "## 2. User options\n",
    "\n",
    "Take care with setting `force_update = True` in the code below. This will delete existing data from the database and upload it again.\n",
    "\n",
    "#### Issues to solve\n",
    "\n",
    " * The dilution factor should eventually be identified automatically in the code. I have a placeholder function for this, named `get_dilution`, but it current always returns the value 1. **This must be changed before the code is used \"for real\"** <br><br>\n",
    " \n",
    " * The data already in RESA2 currently uses one of the two methods in the table below. **Check which is correct for the current instrument** (Tore's Access database assumes method ID 10666, which has more complete metadata)\n",
    " \n",
    "| wc_method_id |      name      |  unit  | laboratory | method_ref |        description       |\n",
    "|:------------:|:--------------:|:------:|:----------:|:----------:|:------------------------:|\n",
    "|     10666    | LAMBDA_Spekter | abs/cm |    NIVA    |            | Hele spekteret, filtrert |\n",
    "|     10758    | Sensor_Spekter |        |            |            |                          |"
   ]
  },
  {
   "cell_type": "code",
   "execution_count": 3,
   "id": "0ba80fc4-9212-4340-82af-93b23c47c9b3",
   "metadata": {},
   "outputs": [],
   "source": [
    "# Data folder to process\n",
    "uv_data_fold = r\"../../test_data\"\n",
    "\n",
    "# Whether to re-upload data for samples already in the database.\n",
    "# If 'force_update' is False and UV data for the current water sample are\n",
    "# already present in RESA2, data for this sample will be skipped (and a\n",
    "# message printed to the output). If 'force_update' is True, data already\n",
    "# in the database for the current sample will be deleted and the values\n",
    "# uploaded again\n",
    "force_update = False"
   ]
  },
  {
   "cell_type": "code",
   "execution_count": 4,
   "id": "1d3b4c42-95df-4960-9073-7105bf22badf",
   "metadata": {},
   "outputs": [],
   "source": [
    "# Check user input\n",
    "assert type(force_update) is bool, \"'force_update' must be of Boolean type.\""
   ]
  },
  {
   "cell_type": "markdown",
   "id": "2288168f-91ff-469a-a8c4-054fa6f2d375",
   "metadata": {},
   "source": [
    "## 3. Upload data\n",
    "\n",
    "The code performs the following steps:\n",
    "\n",
    " 1. Gets a list of all folders within `uv_data_fold` that begin with the letters `AB` (capitalised) <br><br>\n",
    " \n",
    " 2. For each folder, gets a list of all files ending with extension `.SP` and identifies the blank files (which are assumed to be named `BL*.SP`) <br><br>\n",
    " \n",
    " 3. Assigns a blank file to each result file based on analysis date and time (see e-mail from Liv Bente received 19.10.2021 at 13.48) <br><br>\n",
    " \n",
    " 4. For each (non-blank) `.SP` file in each folder, identifies the serial number from the file name. Also identifies the year when the analysis was conducted and constructs the Labware text ID as `{NR-{year}-{serial_no}`. This information is used to identify the corresponding RESA2 water sample ID. The code raises an error if more than one sample ID is found, and prints a warning (but continues) if no matching ID can be identified <br><br>\n",
    " \n",
    " 5. Reads each raw data file and the corresponding blank, and checks both contain data for 701 wavelengths <br><br>\n",
    " \n",
    " 6. The blank values are subtracted from the raw values and the result corrected for dilution and cuvette length <br><br>\n",
    " \n",
    " 7. Corrected values are uploaded to `RESA2.ABSORBANCE_SPECTRAS`. If this table already contains values for the water sample being processed, a warning will be printed and the code will continue to the next file without uploading anything (unless `force_update = True`, in which case the existing data will be deleted from RESA and uploaded again) <br><br>\n",
    " \n",
    " 8. Within each folder, a subfolder is created named `uploaded`. Each raw `.SP` file that is successfully processed is moved to this subfolder <br><br>\n",
    " \n",
    " 9. When a sample has been successfully processed, a new row is inserted into `RESA2.LOG_ABS_SPECTRA`. This records key information about the sample (`labware_text_id`, `water_sample_id`, `year`, `serial_no`, `blank_file`, `dilution`, `cuvette_len_cm`, `original_path` and `archive_path`), plus the user that uploaded the data and the current date. Note that if a file is uploaded multiple times, it will appear several times in this table (but the dataset can only appear once in `RESA2.ABSORBANCE_SPECTRAS`, as it must be deleted each time before uploading again)"
   ]
  },
  {
   "cell_type": "code",
   "execution_count": 5,
   "id": "c102f60e-5a31-471c-bb89-47f411e4be62",
   "metadata": {},
   "outputs": [
    {
     "name": "stdout",
     "output_type": "stream",
     "text": [
      "##################################################################\n",
      "../../test_data/AB210510\n",
      "##################################################################\n",
      "Successfully uploaded new data for NR-2021-03222 (water sample ID 886041).\n",
      "Successfully uploaded new data for NR-2021-03543 (water sample ID 886294).\n",
      "Successfully uploaded new data for NR-2021-03544 (water sample ID 886295).\n",
      "Successfully uploaded new data for NR-2021-03545 (water sample ID 886306).\n",
      "Skipping upload for NR-2021-03548. Could not identify water sample in RESA2. \n",
      "Successfully uploaded new data for NR-2021-03549 (water sample ID 886297).\n",
      "Successfully uploaded new data for NR-2021-03551 (water sample ID 886299).\n",
      "Successfully uploaded new data for NR-2021-03553 (water sample ID 886300).\n",
      "Successfully uploaded new data for NR-2021-03554 (water sample ID 886301).\n",
      "Successfully uploaded new data for NR-2021-03555 (water sample ID 886302).\n",
      "Successfully uploaded new data for NR-2021-03556 (water sample ID 886303).\n",
      "Successfully uploaded new data for NR-2021-03883 (water sample ID 886251).\n",
      "Successfully uploaded new data for NR-2021-03884 (water sample ID 886027).\n",
      "Successfully uploaded new data for NR-2021-03947 (water sample ID 886026).\n",
      "Successfully uploaded new data for NR-2021-04035 (water sample ID 886169).\n",
      "Successfully uploaded new data for NR-2021-04036 (water sample ID 886029).\n",
      "Successfully uploaded new data for NR-2021-04037 (water sample ID 886030).\n"
     ]
    }
   ],
   "source": [
    "# Cuvette length in cm\n",
    "cuvette_len_cm = 5\n",
    "\n",
    "# Method ID to assign in RESA\n",
    "meth_id = 10666\n",
    "\n",
    "# Relevant folder names begin with \"AB\"\n",
    "folders = glob(f\"{uv_data_fold}/*\")\n",
    "folders = [fold for fold in folders if os.path.split(fold)[1][:2] == \"AB\"]\n",
    "\n",
    "for fold in folders:\n",
    "    blank_list = glob(f\"{fold}/BL*.SP\")\n",
    "    flist = glob(f\"{fold}/*.SP\")\n",
    "    flist = [fpath for fpath in flist if fpath not in blank_list]\n",
    "\n",
    "    if (len(flist) > 0) and (len(blank_list) > 0):\n",
    "        print(\"##################################################################\")\n",
    "        print(fold)\n",
    "        print(\"##################################################################\")\n",
    "\n",
    "        res_blank_df = uv.assign_blanks(flist, blank_list)\n",
    "\n",
    "        for fpath in flist:\n",
    "            serial_no = os.path.split(fpath)[1][:-3]\n",
    "            year = uv.get_analysis_datetime(fpath).year\n",
    "            dilution = uv.get_dilution(serial_no, year)\n",
    "            ws_id = uv.get_water_sample_id(serial_no, year, engine)\n",
    "\n",
    "            if ws_id is None:\n",
    "                print(\n",
    "                    f\"Skipping upload for NR-{year}-{serial_no}. \"\n",
    "                    \"Could not identify water sample in RESA2. \"\n",
    "                )\n",
    "            else:\n",
    "                blank_path = res_blank_df.loc[fpath, \"blank_path\"]\n",
    "                blank_file = os.path.split(blank_path)[1]\n",
    "                df = uv.read_uv_abs(fpath)\n",
    "                blank_df = uv.read_uv_abs(blank_path)\n",
    "                df = uv.correct_values(\n",
    "                    df, blank_df, cuvette_len_cm, dilution, ws_id, meth_id\n",
    "                )\n",
    "                uv.add_to_resa(\n",
    "                    df,\n",
    "                    fold,\n",
    "                    year,\n",
    "                    serial_no,\n",
    "                    blank_file,\n",
    "                    dilution,\n",
    "                    cuvette_len_cm,\n",
    "                    engine,\n",
    "                    force_update=force_update,\n",
    "                )"
   ]
  }
 ],
 "metadata": {
  "kernelspec": {
   "display_name": "Python 3 (ipykernel)",
   "language": "python",
   "name": "python3"
  },
  "language_info": {
   "codemirror_mode": {
    "name": "ipython",
    "version": 3
   },
   "file_extension": ".py",
   "mimetype": "text/x-python",
   "name": "python",
   "nbconvert_exporter": "python",
   "pygments_lexer": "ipython3",
   "version": "3.9.7"
  }
 },
 "nbformat": 4,
 "nbformat_minor": 5
}
